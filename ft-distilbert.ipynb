{
 "cells": [
  {
   "cell_type": "code",
   "execution_count": 1,
   "metadata": {},
   "outputs": [],
   "source": [
    "from typing import List\n",
    "import numpy as np\n",
    "import pandas as pd\n",
    "import torch\n",
    "import torch.nn.functional as F\n",
    "from transformers import (AutoTokenizer, AutoModelForSequenceClassification, \n",
    "                          TrainingArguments, Trainer, DataCollatorWithPadding)\n",
    "from sklearn.utils import shuffle\n",
    "from datasets import Dataset, load_dataset"
   ]
  },
  {
   "cell_type": "code",
   "execution_count": null,
   "metadata": {},
   "outputs": [
    {
     "data": {
      "application/vnd.jupyter.widget-view+json": {
       "model_id": "c88b0951f31f4b0d886e5117ef38367e",
       "version_major": 2,
       "version_minor": 0
      },
      "text/plain": [
       "VBox(children=(HTML(value='<center> <img\\nsrc=https://huggingface.co/front/assets/huggingface_logo-noborder.sv…"
      ]
     },
     "metadata": {},
     "output_type": "display_data"
    },
    {
     "name": "stderr",
     "output_type": "stream",
     "text": [
      "huggingface/tokenizers: The current process just got forked, after parallelism has already been used. Disabling parallelism to avoid deadlocks...\n",
      "To disable this warning, you can either:\n",
      "\t- Avoid using `tokenizers` before the fork if possible\n",
      "\t- Explicitly set the environment variable TOKENIZERS_PARALLELISM=(true | false)\n",
      "huggingface/tokenizers: The current process just got forked, after parallelism has already been used. Disabling parallelism to avoid deadlocks...\n",
      "To disable this warning, you can either:\n",
      "\t- Avoid using `tokenizers` before the fork if possible\n",
      "\t- Explicitly set the environment variable TOKENIZERS_PARALLELISM=(true | false)\n",
      "huggingface/tokenizers: The current process just got forked, after parallelism has already been used. Disabling parallelism to avoid deadlocks...\n",
      "To disable this warning, you can either:\n",
      "\t- Avoid using `tokenizers` before the fork if possible\n",
      "\t- Explicitly set the environment variable TOKENIZERS_PARALLELISM=(true | false)\n"
     ]
    }
   ],
   "source": [
    "from huggingface_hub import notebook_login\n",
    "\n",
    "notebook_login()"
   ]
  },
  {
   "cell_type": "code",
   "execution_count": 35,
   "metadata": {},
   "outputs": [
    {
     "data": {
      "text/plain": [
       "sentence    These changes , they argue , `` promise to dra...\n",
       "label                                                 Liberal\n",
       "Name: 1272, dtype: object"
      ]
     },
     "execution_count": 35,
     "metadata": {},
     "output_type": "execute_result"
    }
   ],
   "source": [
    "full_file = \"data/IBC/ibc.csv\"\n",
    "sample_file = \"data/IBC/sample_ibc.csv\"\n",
    "ibc = pd.read_csv(full_file)\n",
    "sample = pd.read_csv(sample_file)\n",
    "# ibc = shuffle(pd.read_csv(full_file), random_state=1)\n",
    "\n",
    "dsq = sample[\"sentence\"].to_list()\n",
    "# print(dsq)\n",
    "ft_ibc = ibc.loc[~ibc[\"sentence\"].isin(dsq), :].copy()\n",
    "# print(ft_ibc.label.value_counts(), ibc.label.value_counts())\n",
    "\n",
    "ft_ibc = shuffle(ft_ibc, random_state=1)\n",
    "ft_ibc.iloc[0]"
   ]
  },
  {
   "cell_type": "code",
   "execution_count": 36,
   "metadata": {},
   "outputs": [],
   "source": [
    "options = [\"liberal\", \"neutral\", \"conservative\"]\n",
    "\n",
    "def add_to_dataset(dataset, sentence, label):\n",
    "    if label == 'liberal':\n",
    "        result = 0\n",
    "    elif label == 'neutral':\n",
    "        result = 1\n",
    "    else:\n",
    "        result = 2\n",
    "\n",
    "    data = {\"sentence\": sentence,\n",
    "            \"label\": result}\n",
    "    dataset.append(data)"
   ]
  },
  {
   "cell_type": "code",
   "execution_count": 51,
   "metadata": {},
   "outputs": [
    {
     "data": {
      "text/plain": [
       "{'sentence': 'These changes , they argue , `` promise to dramatically reduce health care costs and improve the quality of care for Medicare enrollees and other Americans .',\n",
       " 'label': 0}"
      ]
     },
     "execution_count": 51,
     "metadata": {},
     "output_type": "execute_result"
    }
   ],
   "source": [
    "sample_dataset = []\n",
    "\n",
    "for index in range(len(sample)):\n",
    "    sentence = ft_ibc.iloc[index][\"sentence\"]\n",
    "    add_to_dataset(sample_dataset, sentence, ft_ibc.iloc[index][\"label\"].lower())\n",
    "\n",
    "sample_ex = sample_dataset[0]\n",
    "sample_ex\n"
   ]
  },
  {
   "cell_type": "code",
   "execution_count": 37,
   "metadata": {},
   "outputs": [
    {
     "data": {
      "text/plain": [
       "{'sentence': 'These changes , they argue , `` promise to dramatically reduce health care costs and improve the quality of care for Medicare enrollees and other Americans .',\n",
       " 'label': 0}"
      ]
     },
     "execution_count": 37,
     "metadata": {},
     "output_type": "execute_result"
    }
   ],
   "source": [
    "dataset = []\n",
    "\n",
    "for index in range(len(ft_ibc)):\n",
    "    sentence = ft_ibc.iloc[index][\"sentence\"]\n",
    "    add_to_dataset(dataset, sentence, ft_ibc.iloc[index][\"label\"].lower())\n",
    "\n",
    "example = dataset[0]\n",
    "example"
   ]
  },
  {
   "cell_type": "code",
   "execution_count": 38,
   "metadata": {},
   "outputs": [],
   "source": [
    "test_split = (int) (0.1*len(dataset))\n",
    "test_set = dataset[:test_split]\n",
    "train_set = dataset[test_split:]\n",
    "\n",
    "print(f\"Size of test set: {len(test_set)}, size of train set: {len(train_set)}, no overlap: {len(train_set)+len(test_set)==len(dataset)}\")"
   ]
  },
  {
   "cell_type": "code",
   "execution_count": 39,
   "metadata": {},
   "outputs": [
    {
     "data": {
      "text/plain": [
       "Dataset({\n",
       "    features: ['sentence', 'label'],\n",
       "    num_rows: 416\n",
       "})"
      ]
     },
     "execution_count": 39,
     "metadata": {},
     "output_type": "execute_result"
    }
   ],
   "source": [
    "# load into Datasets\n",
    "train_ds = Dataset.from_pandas(pd.DataFrame(data=train_set))\n",
    "test_ds = Dataset.from_pandas(pd.DataFrame(data=test_set))\n",
    "\n",
    "test_ds"
   ]
  },
  {
   "cell_type": "code",
   "execution_count": 40,
   "metadata": {},
   "outputs": [
    {
     "name": "stderr",
     "output_type": "stream",
     "text": [
      "/opt/miniconda3/envs/cs375/lib/python3.11/site-packages/transformers/tokenization_utils_base.py:1601: FutureWarning: `clean_up_tokenization_spaces` was not set. It will be set to `True` by default. This behavior will be depracted in transformers v4.45, and will be then set to `False` by default. For more details check this issue: https://github.com/huggingface/transformers/issues/31884\n",
      "  warnings.warn(\n"
     ]
    },
    {
     "data": {
      "text/plain": [
       "{'input_ids': [101, 2122, 3431, 1010, 2027, 7475, 1010, 1036, 1036, 4872, 2000, 12099, 5547, 2740, 2729, 5366, 1998, 5335, 1996, 3737, 1997, 2729, 2005, 27615, 25612, 10285, 1998, 2060, 4841, 1012, 102], 'attention_mask': [1, 1, 1, 1, 1, 1, 1, 1, 1, 1, 1, 1, 1, 1, 1, 1, 1, 1, 1, 1, 1, 1, 1, 1, 1, 1, 1, 1, 1, 1, 1]}"
      ]
     },
     "execution_count": 40,
     "metadata": {},
     "output_type": "execute_result"
    }
   ],
   "source": [
    "tokenizer = AutoTokenizer.from_pretrained(\"distilbert/distilbert-base-uncased\")\n",
    "\n",
    "def preprocess_function(example):\n",
    "    return tokenizer(example[\"sentence\"], truncation=True)\n",
    "\n",
    "preprocess_function(example)"
   ]
  },
  {
   "cell_type": "code",
   "execution_count": 41,
   "metadata": {},
   "outputs": [
    {
     "data": {
      "application/vnd.jupyter.widget-view+json": {
       "model_id": "a13f6bae55f845c080ed8cb091643caf",
       "version_major": 2,
       "version_minor": 0
      },
      "text/plain": [
       "Map:   0%|          | 0/3752 [00:00<?, ? examples/s]"
      ]
     },
     "metadata": {},
     "output_type": "display_data"
    },
    {
     "data": {
      "application/vnd.jupyter.widget-view+json": {
       "model_id": "f3f75ca4cc54456ca9332124af9a3716",
       "version_major": 2,
       "version_minor": 0
      },
      "text/plain": [
       "Map:   0%|          | 0/416 [00:00<?, ? examples/s]"
      ]
     },
     "metadata": {},
     "output_type": "display_data"
    },
    {
     "data": {
      "text/plain": [
       "Dataset({\n",
       "    features: ['sentence', 'label', 'input_ids', 'attention_mask'],\n",
       "    num_rows: 416\n",
       "})"
      ]
     },
     "execution_count": 41,
     "metadata": {},
     "output_type": "execute_result"
    }
   ],
   "source": [
    "tokenized_train = train_ds.map(preprocess_function, batched=True)\n",
    "tokenized_test = test_ds.map(preprocess_function, batched=True)\n",
    "\n",
    "tokenized_test"
   ]
  },
  {
   "cell_type": "code",
   "execution_count": 42,
   "metadata": {},
   "outputs": [],
   "source": [
    "data_collator = DataCollatorWithPadding(tokenizer=tokenizer)"
   ]
  },
  {
   "cell_type": "code",
   "execution_count": 43,
   "metadata": {},
   "outputs": [],
   "source": [
    "id2label = {0: \"Liberal\", 1: \"Neutral\", 2: \"Conservative\"}\n",
    "label2id = {\"Liberal\": 0, \"Neutral\": 1, \"Conservative\": 2}"
   ]
  },
  {
   "cell_type": "code",
   "execution_count": 44,
   "metadata": {},
   "outputs": [
    {
     "name": "stderr",
     "output_type": "stream",
     "text": [
      "Some weights of DistilBertForSequenceClassification were not initialized from the model checkpoint at distilbert/distilbert-base-uncased and are newly initialized: ['classifier.bias', 'classifier.weight', 'pre_classifier.bias', 'pre_classifier.weight']\n",
      "You should probably TRAIN this model on a down-stream task to be able to use it for predictions and inference.\n"
     ]
    }
   ],
   "source": [
    "model = AutoModelForSequenceClassification.from_pretrained(\n",
    "    \"distilbert/distilbert-base-uncased\", num_labels=3, id2label=id2label, label2id=label2id\n",
    ")"
   ]
  },
  {
   "cell_type": "code",
   "execution_count": 45,
   "metadata": {},
   "outputs": [],
   "source": [
    "import evaluate\n",
    "\n",
    "accuracy = evaluate.load(\"accuracy\")\n",
    "\n",
    "def compute_metrics(eval_pred):\n",
    "    predictions, labels = eval_pred\n",
    "    predictions = np.argmax(predictions, axis=1)\n",
    "    return accuracy.compute(predictions=predictions, references=labels)\n"
   ]
  },
  {
   "cell_type": "code",
   "execution_count": null,
   "metadata": {},
   "outputs": [
    {
     "data": {
      "application/vnd.jupyter.widget-view+json": {
       "model_id": "b1b9406c29504ba0a73bfb96d99d58dc",
       "version_major": 2,
       "version_minor": 0
      },
      "text/plain": [
       "  0%|          | 0/235 [00:00<?, ?it/s]"
      ]
     },
     "metadata": {},
     "output_type": "display_data"
    },
    {
     "data": {
      "application/vnd.jupyter.widget-view+json": {
       "model_id": "3eb2ec003e5e42b286ce3ae0014cd990",
       "version_major": 2,
       "version_minor": 0
      },
      "text/plain": [
       "  0%|          | 0/26 [00:00<?, ?it/s]"
      ]
     },
     "metadata": {},
     "output_type": "display_data"
    },
    {
     "name": "stdout",
     "output_type": "stream",
     "text": [
      "{'eval_loss': 0.9487107992172241, 'eval_accuracy': 0.5384615384615384, 'eval_runtime': 56.9813, 'eval_samples_per_second': 7.301, 'eval_steps_per_second': 0.456, 'epoch': 1.0}\n",
      "{'train_runtime': 1281.7634, 'train_samples_per_second': 2.927, 'train_steps_per_second': 0.183, 'train_loss': 0.6375928513547208, 'epoch': 1.0}\n"
     ]
    },
    {
     "data": {
      "text/plain": [
       "TrainOutput(global_step=235, training_loss=0.6375928513547208, metrics={'train_runtime': 1281.7634, 'train_samples_per_second': 2.927, 'train_steps_per_second': 0.183, 'total_flos': 73086050964960.0, 'train_loss': 0.6375928513547208, 'epoch': 1.0})"
      ]
     },
     "execution_count": 21,
     "metadata": {},
     "output_type": "execute_result"
    }
   ],
   "source": [
    "training_args = TrainingArguments(\n",
    "    output_dir=\"pid-ft-distilbert\",\n",
    "    learning_rate=2e-5,\n",
    "    per_device_train_batch_size=16,\n",
    "    per_device_eval_batch_size=16,\n",
    "    num_train_epochs=1,\n",
    "    weight_decay=0.01,\n",
    "    eval_strategy=\"epoch\",\n",
    "    save_strategy=\"epoch\",\n",
    "    load_best_model_at_end=True,\n",
    "    push_to_hub=True,\n",
    ")\n",
    "\n",
    "trainer = Trainer(\n",
    "    model=model,\n",
    "    args=training_args,\n",
    "    train_dataset=tokenized_train,\n",
    "    eval_dataset=tokenized_test,\n",
    "    tokenizer=tokenizer,\n",
    "    data_collator=data_collator,\n",
    "    compute_metrics=compute_metrics,\n",
    ")\n",
    "\n",
    "trainer.train()"
   ]
  },
  {
   "cell_type": "code",
   "execution_count": 46,
   "metadata": {},
   "outputs": [
    {
     "data": {
      "application/vnd.jupyter.widget-view+json": {
       "model_id": "b9f15132bf50412db8f57fa781134fb6",
       "version_major": 2,
       "version_minor": 0
      },
      "text/plain": [
       "model.safetensors:   0%|          | 0.00/268M [00:00<?, ?B/s]"
      ]
     },
     "metadata": {},
     "output_type": "display_data"
    },
    {
     "data": {
      "application/vnd.jupyter.widget-view+json": {
       "model_id": "9ad48ad490d74d67bff93a73187a33a8",
       "version_major": 2,
       "version_minor": 0
      },
      "text/plain": [
       "README.md:   0%|          | 0.00/5.17k [00:00<?, ?B/s]"
      ]
     },
     "metadata": {},
     "output_type": "display_data"
    },
    {
     "data": {
      "text/plain": [
       "CommitInfo(commit_url='https://huggingface.co/lhz1/pid-ft-distilbert/commit/e989feec2e241a00cbc2adbca2ffe5f6705dd353', commit_message='Upload tokenizer', commit_description='', oid='e989feec2e241a00cbc2adbca2ffe5f6705dd353', pr_url=None, pr_revision=None, pr_num=None)"
      ]
     },
     "execution_count": 46,
     "metadata": {},
     "output_type": "execute_result"
    }
   ],
   "source": [
    "model.push_to_hub(\"pid-ft-distilbert\")\n",
    "tokenizer.push_to_hub(\"pid-ft-distilbert\")"
   ]
  },
  {
   "cell_type": "code",
   "execution_count": 56,
   "metadata": {},
   "outputs": [
    {
     "data": {
      "application/vnd.jupyter.widget-view+json": {
       "model_id": "b562f14afb2d4b05b8c246de2caac506",
       "version_major": 2,
       "version_minor": 0
      },
      "text/plain": [
       "tokenizer_config.json:   0%|          | 0.00/1.20k [00:00<?, ?B/s]"
      ]
     },
     "metadata": {},
     "output_type": "display_data"
    },
    {
     "data": {
      "application/vnd.jupyter.widget-view+json": {
       "model_id": "a8727b45cc3248eb8d53d3e3a31c43c6",
       "version_major": 2,
       "version_minor": 0
      },
      "text/plain": [
       "vocab.txt:   0%|          | 0.00/232k [00:00<?, ?B/s]"
      ]
     },
     "metadata": {},
     "output_type": "display_data"
    },
    {
     "data": {
      "application/vnd.jupyter.widget-view+json": {
       "model_id": "f93bd256b81c43758346b25080520e85",
       "version_major": 2,
       "version_minor": 0
      },
      "text/plain": [
       "tokenizer.json:   0%|          | 0.00/711k [00:00<?, ?B/s]"
      ]
     },
     "metadata": {},
     "output_type": "display_data"
    },
    {
     "data": {
      "application/vnd.jupyter.widget-view+json": {
       "model_id": "d6dfca8f9a2f457897af65e19741cbde",
       "version_major": 2,
       "version_minor": 0
      },
      "text/plain": [
       "special_tokens_map.json:   0%|          | 0.00/125 [00:00<?, ?B/s]"
      ]
     },
     "metadata": {},
     "output_type": "display_data"
    },
    {
     "data": {
      "application/vnd.jupyter.widget-view+json": {
       "model_id": "551254347bbe4c50bab3cdc24681031b",
       "version_major": 2,
       "version_minor": 0
      },
      "text/plain": [
       "config.json:   0%|          | 0.00/741 [00:00<?, ?B/s]"
      ]
     },
     "metadata": {},
     "output_type": "display_data"
    },
    {
     "data": {
      "application/vnd.jupyter.widget-view+json": {
       "model_id": "5cb86dd55f114e5abd194b6a6f6e8dff",
       "version_major": 2,
       "version_minor": 0
      },
      "text/plain": [
       "model.safetensors:   0%|          | 0.00/268M [00:00<?, ?B/s]"
      ]
     },
     "metadata": {},
     "output_type": "display_data"
    }
   ],
   "source": [
    "# evaluate on same sample dataset\n",
    "infer_tokenizer = AutoTokenizer.from_pretrained(\"lhz1/pid-ft-distilbert\")\n",
    "ft_distilbert = AutoModelForSequenceClassification.from_pretrained(\"lhz1/pid-ft-distilbert\")\n",
    "\n",
    "\n",
    "def run_model():\n",
    "    ret = []\n",
    "    for example in sample_dataset:\n",
    "        inputs = infer_tokenizer(example[\"sentence\"], return_tensors=\"pt\")\n",
    "\n",
    "        with torch.no_grad():\n",
    "            logits = ft_distilbert(**inputs).logits\n",
    "\n",
    "            predicted_class_id = logits.argmax().item()\n",
    "            print(predicted_class_id)\n",
    "            ret.append(ft_distilbert.config.id2label[predicted_class_id])\n",
    "\n",
    "    return ret\n",
    "\n",
    "distilbert_preds = run_model() "
   ]
  },
  {
   "cell_type": "code",
   "execution_count": 57,
   "metadata": {},
   "outputs": [
    {
     "data": {
      "text/plain": [
       "['Liberal',\n",
       " 'Liberal',\n",
       " 'Liberal',\n",
       " 'Liberal',\n",
       " 'Liberal',\n",
       " 'Liberal',\n",
       " 'Liberal',\n",
       " 'Liberal',\n",
       " 'Liberal',\n",
       " 'Liberal',\n",
       " 'Liberal',\n",
       " 'Liberal',\n",
       " 'Liberal',\n",
       " 'Liberal',\n",
       " 'Liberal',\n",
       " 'Liberal',\n",
       " 'Liberal',\n",
       " 'Liberal',\n",
       " 'Liberal',\n",
       " 'Liberal',\n",
       " 'Liberal',\n",
       " 'Liberal',\n",
       " 'Liberal',\n",
       " 'Liberal',\n",
       " 'Liberal',\n",
       " 'Liberal',\n",
       " 'Liberal',\n",
       " 'Liberal',\n",
       " 'Liberal',\n",
       " 'Liberal',\n",
       " 'Liberal',\n",
       " 'Liberal',\n",
       " 'Liberal',\n",
       " 'Liberal',\n",
       " 'Liberal',\n",
       " 'Liberal',\n",
       " 'Liberal',\n",
       " 'Liberal',\n",
       " 'Liberal',\n",
       " 'Liberal',\n",
       " 'Liberal',\n",
       " 'Liberal',\n",
       " 'Liberal',\n",
       " 'Liberal',\n",
       " 'Liberal',\n",
       " 'Liberal',\n",
       " 'Liberal',\n",
       " 'Liberal',\n",
       " 'Liberal',\n",
       " 'Liberal',\n",
       " 'Liberal',\n",
       " 'Liberal',\n",
       " 'Liberal',\n",
       " 'Liberal',\n",
       " 'Liberal',\n",
       " 'Liberal',\n",
       " 'Liberal',\n",
       " 'Liberal',\n",
       " 'Liberal',\n",
       " 'Liberal',\n",
       " 'Liberal',\n",
       " 'Liberal',\n",
       " 'Liberal',\n",
       " 'Liberal',\n",
       " 'Liberal',\n",
       " 'Liberal',\n",
       " 'Liberal',\n",
       " 'Liberal',\n",
       " 'Liberal',\n",
       " 'Liberal',\n",
       " 'Liberal',\n",
       " 'Liberal',\n",
       " 'Liberal',\n",
       " 'Liberal',\n",
       " 'Liberal',\n",
       " 'Liberal',\n",
       " 'Liberal',\n",
       " 'Liberal',\n",
       " 'Liberal',\n",
       " 'Liberal',\n",
       " 'Liberal',\n",
       " 'Liberal',\n",
       " 'Liberal',\n",
       " 'Liberal',\n",
       " 'Liberal',\n",
       " 'Liberal',\n",
       " 'Liberal',\n",
       " 'Liberal',\n",
       " 'Liberal',\n",
       " 'Liberal',\n",
       " 'Liberal',\n",
       " 'Liberal',\n",
       " 'Liberal',\n",
       " 'Liberal',\n",
       " 'Liberal',\n",
       " 'Liberal',\n",
       " 'Liberal',\n",
       " 'Liberal',\n",
       " 'Liberal',\n",
       " 'Liberal',\n",
       " 'Liberal',\n",
       " 'Liberal',\n",
       " 'Liberal',\n",
       " 'Liberal',\n",
       " 'Liberal',\n",
       " 'Liberal',\n",
       " 'Liberal',\n",
       " 'Liberal',\n",
       " 'Liberal',\n",
       " 'Liberal',\n",
       " 'Liberal',\n",
       " 'Liberal',\n",
       " 'Liberal',\n",
       " 'Liberal',\n",
       " 'Liberal',\n",
       " 'Liberal',\n",
       " 'Liberal',\n",
       " 'Liberal',\n",
       " 'Liberal',\n",
       " 'Liberal',\n",
       " 'Liberal',\n",
       " 'Liberal',\n",
       " 'Liberal',\n",
       " 'Liberal',\n",
       " 'Liberal',\n",
       " 'Liberal',\n",
       " 'Liberal',\n",
       " 'Liberal',\n",
       " 'Liberal',\n",
       " 'Liberal',\n",
       " 'Liberal',\n",
       " 'Liberal',\n",
       " 'Liberal',\n",
       " 'Liberal',\n",
       " 'Liberal',\n",
       " 'Liberal',\n",
       " 'Liberal',\n",
       " 'Liberal',\n",
       " 'Liberal',\n",
       " 'Liberal',\n",
       " 'Liberal',\n",
       " 'Liberal',\n",
       " 'Liberal',\n",
       " 'Liberal',\n",
       " 'Liberal',\n",
       " 'Liberal',\n",
       " 'Liberal',\n",
       " 'Liberal',\n",
       " 'Liberal',\n",
       " 'Liberal']"
      ]
     },
     "execution_count": 57,
     "metadata": {},
     "output_type": "execute_result"
    }
   ],
   "source": [
    "distilbert_preds"
   ]
  }
 ],
 "metadata": {
  "kernelspec": {
   "display_name": "cs375",
   "language": "python",
   "name": "python3"
  },
  "language_info": {
   "codemirror_mode": {
    "name": "ipython",
    "version": 3
   },
   "file_extension": ".py",
   "mimetype": "text/x-python",
   "name": "python",
   "nbconvert_exporter": "python",
   "pygments_lexer": "ipython3",
   "version": "3.11.9"
  }
 },
 "nbformat": 4,
 "nbformat_minor": 2
}
